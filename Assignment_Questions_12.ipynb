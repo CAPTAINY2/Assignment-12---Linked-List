{
  "nbformat": 4,
  "nbformat_minor": 0,
  "metadata": {
    "colab": {
      "provenance": [],
      "authorship_tag": "ABX9TyP5sDiVUnBKQeXn2N0mVSNk",
      "include_colab_link": true
    },
    "kernelspec": {
      "name": "python3",
      "display_name": "Python 3"
    },
    "language_info": {
      "name": "python"
    }
  },
  "cells": [
    {
      "cell_type": "markdown",
      "metadata": {
        "id": "view-in-github",
        "colab_type": "text"
      },
      "source": [
        "<a href=\"https://colab.research.google.com/github/CAPTAINY2/Assignment-12---Linked-List/blob/main/Assignment_Questions_12.ipynb\" target=\"_parent\"><img src=\"https://colab.research.google.com/assets/colab-badge.svg\" alt=\"Open In Colab\"/></a>"
      ]
    },
    {
      "cell_type": "markdown",
      "source": [
        "### QUESTION-1"
      ],
      "metadata": {
        "id": "HV8zzjcGtlUi"
      }
    },
    {
      "cell_type": "code",
      "source": [
        "\n",
        "class Node:\n",
        "    def __init__(self, data):\n",
        "        self.data = data\n",
        "        self.next = None\n",
        "\n",
        "\n",
        "def middle_node(head):\n",
        "    if head is None or head.next is None:\n",
        "        return None\n",
        "\n",
        "    slow = head\n",
        "    fast = head\n",
        "    prev = None\n",
        "\n",
        "    while fast is not None and fast.next is not None:\n",
        "        fast = fast.next.next\n",
        "        prev = slow\n",
        "        slow = slow.next\n",
        "\n",
        "    prev.next = slow.next\n",
        "\n",
        "    return head\n",
        "\n",
        "\n",
        "def list(head):\n",
        "    current = head\n",
        "    while current is not None:\n",
        "        print(current.data, end=\" \")\n",
        "        current = current.next\n",
        "    print()\n",
        "\n",
        "head1 = Node(1)\n",
        "head1.next = Node(2)\n",
        "head1.next.next = Node(3)\n",
        "head1.next.next.next = Node(4)\n",
        "head1.next.next.next.next = Node(5)\n",
        "\n",
        "print(\"Example 1:\")\n",
        "print(\"Input:\")\n",
        "list(head1)\n",
        "\n",
        "head1 = middle_node(head1)\n",
        "\n",
        "print(\"Output:\")\n",
        "list(head1)\n",
        "\n",
        "head2 = Node(2)\n",
        "head2.next = Node(4)\n",
        "head2.next.next = Node(6)\n",
        "head2.next.next.next = Node(7)\n",
        "head2.next.next.next.next = Node(5)\n",
        "head2.next.next.next.next.next = Node(1)\n",
        "\n",
        "print(\"Example 2:\")\n",
        "print(\"Input:\")\n",
        "list(head2)\n",
        "\n",
        "head2 = middle_node(head2)\n",
        "\n",
        "print(\"Output:\")\n",
        "list(head2)\n"
      ],
      "metadata": {
        "id": "ZPTWKE7ccmxy",
        "colab": {
          "base_uri": "https://localhost:8080/"
        },
        "outputId": "98eae305-c822-40e5-c59c-9eec25ac4f2a"
      },
      "execution_count": null,
      "outputs": [
        {
          "output_type": "stream",
          "name": "stdout",
          "text": [
            "Example 1:\n",
            "Input:\n",
            "1 2 3 4 5 \n",
            "Output:\n",
            "1 2 4 5 \n",
            "Example 2:\n",
            "Input:\n",
            "2 4 6 7 5 1 \n",
            "Output:\n",
            "2 4 6 5 1 \n"
          ]
        }
      ]
    },
    {
      "cell_type": "markdown",
      "source": [
        "### QUESTION-2"
      ],
      "metadata": {
        "id": "B7fYyP5_tseI"
      }
    },
    {
      "cell_type": "code",
      "source": [
        "class Node:\n",
        "    def __init__(self, data):\n",
        "        self.data = data\n",
        "        self.next = None\n",
        "\n",
        "\n",
        "def detect_loop(head):\n",
        "    slow = head\n",
        "    fast = head\n",
        "\n",
        "    while fast is not None and fast.next is not None:\n",
        "        slow = slow.next\n",
        "        fast = fast.next.next\n",
        "\n",
        "        if slow == fast:\n",
        "            return True\n",
        "\n",
        "    return False\n",
        "\n",
        "head1 = Node(1)\n",
        "head1.next = Node(2)\n",
        "head1.next.next = Node(3)\n",
        "head1.next.next.next = Node(4)\n",
        "head1.next.next.next.next = Node(5)\n",
        "head1.next.next.next.next.next = head1.next.next\n",
        "\n",
        "print(\"Output 1: \" , detect_loop(head1))\n",
        "\n",
        "head2 = Node(1)\n",
        "node2 = Node(8)\n",
        "node3 = Node(3)\n",
        "node4 = Node(4)\n",
        "\n",
        "head2.next = node2\n",
        "node2.next = node3\n",
        "node3.next = node4\n",
        "\n",
        "print(\"Output 2: \" , detect_loop(head2))"
      ],
      "metadata": {
        "id": "-q-97d6d8Bdg",
        "colab": {
          "base_uri": "https://localhost:8080/"
        },
        "outputId": "c2f5bd7a-b2d2-40cf-da08-d184355fdf0f"
      },
      "execution_count": null,
      "outputs": [
        {
          "output_type": "stream",
          "name": "stdout",
          "text": [
            "Output 1:  True\n",
            "Output 2:  False\n"
          ]
        }
      ]
    },
    {
      "cell_type": "markdown",
      "source": [
        "### QUESTION-3"
      ],
      "metadata": {
        "id": "0V5csb5CtyYu"
      }
    },
    {
      "cell_type": "code",
      "source": [
        "class Node:\n",
        "    def __init__(self, value):\n",
        "        self.value = value\n",
        "        self.next = None\n",
        "\n",
        "def find_node(head, N):\n",
        "    firstPtr = head\n",
        "    secondPtr = head\n",
        "\n",
        "    count = 0\n",
        "    while count < N - 1:\n",
        "        if secondPtr is None:\n",
        "            return -1\n",
        "        secondPtr = secondPtr.next\n",
        "        count += 1\n",
        "\n",
        "    if secondPtr is None:\n",
        "        return -1\n",
        "\n",
        "    while secondPtr.next is not None:\n",
        "        firstPtr = firstPtr.next\n",
        "        secondPtr = secondPtr.next\n",
        "\n",
        "    return firstPtr.value\n",
        "\n",
        "head = Node(1)\n",
        "head.next = Node(2)\n",
        "head.next.next = Node(3)\n",
        "head.next.next.next = Node(4)\n",
        "head.next.next.next.next = Node(5)\n",
        "head.next.next.next.next.next = Node(6)\n",
        "head.next.next.next.next.next.next = Node(7)\n",
        "head.next.next.next.next.next.next.next = Node(8)\n",
        "head.next.next.next.next.next.next.next.next = Node(9)\n",
        "N = 2\n",
        "\n",
        "print(\"Output 1: \", find_node(head, N))\n",
        "\n",
        "head = Node(10)\n",
        "head.next = Node(5)\n",
        "head.next.next = Node(100)\n",
        "head.next.next.next = Node(5)\n",
        "N = 5\n",
        "\n",
        "print(\"Output 2: \", find_node(head, N))\n"
      ],
      "metadata": {
        "colab": {
          "base_uri": "https://localhost:8080/"
        },
        "id": "IAhat_seGorV",
        "outputId": "2591f4c1-6948-4ca0-b774-550ded3e3ff0"
      },
      "execution_count": null,
      "outputs": [
        {
          "output_type": "stream",
          "name": "stdout",
          "text": [
            "Output 1:  8\n",
            "Output 2:  -1\n"
          ]
        }
      ]
    },
    {
      "cell_type": "markdown",
      "source": [
        "### QUESTION-4"
      ],
      "metadata": {
        "id": "9MNBdY7Kt5_T"
      }
    },
    {
      "cell_type": "code",
      "source": [
        "class Node:\n",
        "    def __init__(self, data):\n",
        "        self.data = data\n",
        "        self.next = None\n",
        "\n",
        "def Palindrome(head):\n",
        "\n",
        "    if head is None or head.next is None:\n",
        "        return True\n",
        "\n",
        "    slowPtr = head\n",
        "    fastPtr = head\n",
        "    stack = []\n",
        "\n",
        "    while fastPtr is not None and fastPtr.next is not None:\n",
        "        stack.append(slowPtr.data)\n",
        "        slowPtr = slowPtr.next\n",
        "        fastPtr = fastPtr.next.next\n",
        "\n",
        "    if fastPtr is not None:\n",
        "        slowPtr = slowPtr.next\n",
        "\n",
        "    while slowPtr is not None:\n",
        "        if slowPtr.data != stack.pop():\n",
        "            return False\n",
        "        slowPtr = slowPtr.next\n",
        "\n",
        "    return True\n",
        "\n",
        "head = Node('R')\n",
        "head.next = Node('A')\n",
        "head.next.next = Node('D')\n",
        "head.next.next.next = Node('A')\n",
        "head.next.next.next.next = Node('R')\n",
        "\n",
        "print(\"Output 1: \", Palindrome(head))\n",
        "\n",
        "head = Node('C')\n",
        "head.next = Node('O')\n",
        "head.next.next = Node('D')\n",
        "head.next.next.next = Node('E')\n",
        "\n",
        "print(\"Output 2: \", Palindrome(head))"
      ],
      "metadata": {
        "colab": {
          "base_uri": "https://localhost:8080/"
        },
        "id": "L8xxxIHdG2hZ",
        "outputId": "0d6fd60d-dc5a-4f1e-95ef-ba57d6ee83ce"
      },
      "execution_count": null,
      "outputs": [
        {
          "output_type": "stream",
          "name": "stdout",
          "text": [
            "Output 1:  True\n",
            "Output 2:  False\n"
          ]
        }
      ]
    },
    {
      "cell_type": "markdown",
      "source": [
        "### QUESTION-5"
      ],
      "metadata": {
        "id": "AFD9YSoYuCGL"
      }
    },
    {
      "cell_type": "markdown",
      "source": [
        "### QUESTION-6"
      ],
      "metadata": {
        "id": "fRkd-4XZuAdH"
      }
    },
    {
      "cell_type": "code",
      "source": [
        "class Node:\n",
        "    def __init__(self, data):\n",
        "        self.data = data\n",
        "        self.next = None\n",
        "\n",
        "def retain(head, M, N):\n",
        "    if M == 0 or N == 0:\n",
        "        return head\n",
        "\n",
        "    current = head\n",
        "    while current:\n",
        "        for i in range(1, M):\n",
        "            if current.next:\n",
        "                current = current.next\n",
        "            else:\n",
        "                return head\n",
        "        temp = current.next\n",
        "        for i in range(1, N+1):\n",
        "            if temp:\n",
        "                temp = temp.next\n",
        "            else:\n",
        "                current.next = None\n",
        "                return head\n",
        "\n",
        "        current.next = temp\n",
        "        current = temp\n",
        "\n",
        "    return head\n",
        "\n",
        "def create_list(arr):\n",
        "    if not arr:\n",
        "        return None\n",
        "    head = Node(arr[0])\n",
        "    temp = head\n",
        "    for i in range(1, len(arr)):\n",
        "        temp.next = Node(arr[i])\n",
        "        temp = temp.next\n",
        "    return head\n",
        "\n",
        "def print_list(head):\n",
        "    while head:\n",
        "        print(head.data, end=\" \")\n",
        "        head = head.next\n",
        "    print()\n",
        "\n",
        "arr = [1, 2, 3, 4, 5, 6, 7, 8]\n",
        "M = 2\n",
        "N = 2\n",
        "head = create_list(arr)\n",
        "head = retain(head, M, N)\n",
        "print(\"Output 1: \")\n",
        "print_list(head)\n",
        "\n",
        "M = 3\n",
        "N = 2\n",
        "arr = [1, 2, 3, 4, 5, 6, 7, 8, 9, 10]\n",
        "head = create_list(arr)\n",
        "head = retain(head, M, N)\n",
        "print(\"Output 2: \")\n",
        "print_list(head)\n",
        "\n",
        "M = 1\n",
        "N = 1\n",
        "arr = [1, 2, 3, 4, 5, 6, 7, 8, 9, 10]\n",
        "head = create_list(arr)\n",
        "head = retain(head, M, N)\n",
        "print(\"Output 3: \")\n",
        "print_list(head)"
      ],
      "metadata": {
        "colab": {
          "base_uri": "https://localhost:8080/"
        },
        "id": "1ynz677xzLR-",
        "outputId": "0849ce89-a7af-47cb-edc3-c89d47a5f62a"
      },
      "execution_count": null,
      "outputs": [
        {
          "output_type": "stream",
          "name": "stdout",
          "text": [
            "Output 1: \n",
            "1 2 5 6 \n",
            "Output 2: \n",
            "1 2 3 6 7 8 \n",
            "Output 3: \n",
            "1 3 5 7 9 \n"
          ]
        }
      ]
    },
    {
      "cell_type": "markdown",
      "source": [
        "### QUESTION-7"
      ],
      "metadata": {
        "id": "beow5NZkuJFb"
      }
    },
    {
      "cell_type": "code",
      "source": [
        "class Node:\n",
        "    def __init__(self, data):\n",
        "        self.data = data\n",
        "        self.next = None\n",
        "\n",
        "def merge(h1, h2):\n",
        "    if not h2:\n",
        "        return h1\n",
        "\n",
        "    current1 = h1\n",
        "    current2 = h2\n",
        "\n",
        "    while current1 and current2:\n",
        "        next1 = current1.next\n",
        "        next2 = current2.next\n",
        "\n",
        "        current1.next = current2\n",
        "        current2.next = next1\n",
        "\n",
        "        current1 = next1\n",
        "        current2 = next2\n",
        "\n",
        "    if current2:\n",
        "        current1.next = current2\n",
        "\n",
        "    h2 = None\n",
        "\n",
        "    return h1\n",
        "\n",
        "def create_list(arr):\n",
        "    if not arr:\n",
        "        return None\n",
        "    head = Node(arr[0])\n",
        "    temp = head\n",
        "    for i in range(1, len(arr)):\n",
        "        temp.next = Node(arr[i])\n",
        "        temp = temp.next\n",
        "    return head\n",
        "\n",
        "def print_list(head):\n",
        "    while head:\n",
        "        print(head.data, end=\" \")\n",
        "        head = head.next\n",
        "    print()\n",
        "\n",
        "arr1 = [5, 7, 17, 13, 11]\n",
        "arr2 = [12, 10, 2, 4, 6]\n",
        "\n",
        "head1 = create_list(arr1)\n",
        "head2 = create_list(arr2)\n",
        "\n",
        "head1 = merge(head1, head2)\n",
        "\n",
        "print(\"First Linked List:\")\n",
        "print_list(head1)\n",
        "\n",
        "print(\"Second Linked List :\")\n",
        "print_list(head2)\n"
      ],
      "metadata": {
        "id": "p6QU6Mmt1ZAo",
        "colab": {
          "base_uri": "https://localhost:8080/"
        },
        "outputId": "5e0270d1-e061-4e7b-92b8-2b167f8da188"
      },
      "execution_count": null,
      "outputs": [
        {
          "output_type": "stream",
          "name": "stdout",
          "text": [
            "First Linked List:\n",
            "5 12 7 10 17 2 13 4 11 6 \n",
            "Second Linked List :\n",
            "12 7 10 17 2 13 4 11 6 \n"
          ]
        }
      ]
    },
    {
      "cell_type": "markdown",
      "source": [
        "### QUESTION-8"
      ],
      "metadata": {
        "id": "yQ89F-DYuMzg"
      }
    },
    {
      "cell_type": "code",
      "source": [],
      "metadata": {
        "id": "ehoanZgE4puI"
      },
      "execution_count": null,
      "outputs": []
    }
  ]
}